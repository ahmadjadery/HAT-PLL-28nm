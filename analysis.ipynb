{
 "cells": [
  {
   "cell_type": "markdown",
   "id": "f0a06afb-3e0d-4f06-831a-4814a7b1857d",
   "metadata": {},
   "source": [
    "# Reproducibility Notebook for HAT-PLL-28nm Paper\n",
    "\n",
    "**Author:** [Your Name/Group]\n",
    "**Date:** October 2025\n",
    "\n",
    "This Jupyter notebook demonstrates the reproducibility of key statistical results presented in our paper, \"Hardware-Aware Training Methodology for a Resilient Mixed-Signal System: A 28nm Cognitive PLL Design Case Study.\"\n",
    "\n",
    "**Objective:**\n",
    "1. Reproduce the Monte Carlo jitter distribution histogram (Fig. 4 in the paper).\n",
    "2. Recalculate and verify the key Figure-of-Merit (FoM) values from the benchmarking table (Table II in the paper).\n",
    "\n",
    "---"
   ]
  },
  {
   "cell_type": "markdown",
   "id": "13194a7e-f504-49f8-92d9-594fed8d1000",
   "metadata": {},
   "source": [
    "### 1. Setup and Data Loading\n",
    "\n",
    "First, we import the necessary Python libraries for data handling and plotting. Then, we load the pre-computed Monte Carlo simulation results from the provided CSV file."
   ]
  },
  {
   "cell_type": "code",
   "execution_count": null,
   "id": "551c2e94-abf0-4c77-bc0d-24cfb28cc5e2",
   "metadata": {},
   "outputs": [],
   "source": [
    "import pandas as pd\n",
    "import numpy as np\n",
    "import matplotlib.pyplot as plt\n",
    "import seaborn as sns\n",
    "\n",
    "# --- Setup plotting style ---\n",
    "sns.set_style(\"whitegrid\")\n",
    "plt.rcParams['figure.figsize'] = (10, 6)\n",
    "plt.rcParams['font.size'] = 12\n",
    "\n",
    "# --- Load Data ---\n",
    "# This CSV file contains the simulated RMS jitter (in fs) from 1,000 Monte Carlo runs\n",
    "# at the worst-case corner (SS, -40°C, 0.9V).\n",
    "try:\n",
    "    mc_data = pd.read_csv('../data/monte_carlo_jitter.csv')\n",
    "    jitter_samples = mc_data['jitter_fs']\n",
    "    print(f\"Successfully loaded {len(jitter_samples)} Monte Carlo samples.\")\n",
    "except FileNotFoundError:\n",
    "    print(\"Error: `monte_carlo_jitter.csv` not found. Make sure you are in the correct directory.\")\n",
    "    jitter_samples = pd.Series([]) # Empty series to prevent crashing"
   ]
  },
  {
   "cell_type": "markdown",
   "id": "e0373f37-7bde-45f6-9388-0ad9b01d780c",
   "metadata": {},
   "source": [
    "### 2. Reproducing Figure 4: Monte Carlo Jitter Distribution\n",
    "\n",
    "Now, we will analyze the loaded jitter data and reproduce the histogram. We will calculate the mean, standard deviation (σ), and the critical 3-sigma worst-case value."
   ]
  },
  {
   "cell_type": "code",
   "execution_count": null,
   "id": "f4a9f721-266b-4c81-8bce-2f2290b0e48e",
   "metadata": {},
   "outputs": [],
   "source": [
    "if not jitter_samples.empty:\n",
    "    # --- Calculate Statistics ---\n",
    "    mean_jitter = jitter_samples.mean()\n",
    "    std_jitter = jitter_samples.std()\n",
    "    three_sigma_jitter = mean_jitter + 3 * std_jitter\n",
    "\n",
    "    print(f\"Statistical Analysis of Jitter:\")\n",
    "    print(f\"  - Mean (μ): {mean_jitter:.2f} fs\")\n",
    "    print(f\"  - Std. Dev. (σ): {std_jitter:.2f} fs\")\n",
    "    print(f\"  - 3-Sigma Worst-Case (μ + 3σ): {three_sigma_jitter:.2f} fs\")\n",
    "    print(\"\\nPlotting histogram...\")\n",
    "    \n",
    "    # --- Plot Histogram ---\n",
    "    plt.figure()\n",
    "    sns.histplot(jitter_samples, bins=20, kde=False, color='skyblue', edgecolor='black')\n",
    "    \n",
    "    # Add vertical lines for stats\n",
    "    plt.axvline(mean_jitter, color='r', linestyle='--', linewidth=2.5, label=f'Mean = {mean_jitter:.1f} fs')\n",
    "    plt.axvline(three_sigma_jitter, color='k', linestyle=':', linewidth=2.5, label=f'3σ Worst-Case = {three_sigma_jitter:.1f} fs')\n",
    "\n",
    "    # Formatting\n",
    "    plt.title('Reproduced Fig. 4: Monte Carlo Jitter Distribution (N=1000)', fontsize=16, fontweight='bold')\n",
    "    plt.xlabel('Simulated RMS Jitter (fs) at Worst-Case Corner', fontsize=12)\n",
    "    plt.ylabel('Number of Samples (Counts)', fontsize=12)\n",
    "    plt.legend()\n",
    "    plt.show()"
   ]
  },
  {
   "cell_type": "markdown",
   "id": "0aac5f56-c024-480a-955f-663f7d5656c0",
   "metadata": {},
   "source": [
    "### 3. Reproducing Key Metrics from Table II: Benchmarking\n",
    "\n",
    "This section recalculates the Figure-of-Merit (FoM) and the Area-Normalized FoM (FoM_A) for our work using the statistically derived 3-sigma worst-case jitter. We then compare it against the reference work by Zhao et al."
   ]
  },
  {
   "cell_type": "code",
   "execution_count": null,
   "id": "c2d6a6f9-16df-4d81-b476-33870eed8a1f",
   "metadata": {},
   "outputs": [],
   "source": [
    "# --- Parameters (from Table II in the paper) ---\n",
    "# Our Work (Simulated)\n",
    "power_this_work_mW = 2.0\n",
    "area_this_work_mm2 = 0.123\n",
    "# Use the 3-sigma jitter we just calculated for a conservative FoM\n",
    "jitter_this_work_fs = three_sigma_jitter \n",
    "\n",
    "# Zhao et al. [Ref] (Measured)\n",
    "jitter_zhao_fs = 20.9\n",
    "power_zhao_mW = 12.0\n",
    "area_zhao_mm2 = 0.0992\n",
    "\n",
    "# --- Calculations ---\n",
    "fom_this_work = (jitter_this_work_fs ** 2) * power_this_work_mW\n",
    "fom_zhao = (jitter_zhao_fs ** 2) * power_zhao_mW\n",
    "\n",
    "fom_a_this_work = fom_this_work * area_this_work_mm2\n",
    "fom_a_zhao = fom_zhao * area_zhao_mm2\n",
    "\n",
    "improvement_fom = fom_zhao / fom_this_work\n",
    "improvement_fom_a = fom_a_zhao / fom_a_this_work\n",
    "\n",
    "# --- Print Results in a formatted table ---\n",
    "print(\"=\"*60)\n",
    "print(\"Reproduced Benchmarking Analysis (from Table II)\")\n",
    "print(\"=\"*60)\n",
    "print(f\"| Metric              | This Work (Sim.)  | Zhao et al. (Meas.) |\")\n",
    "print(f\"|---------------------|-------------------|---------------------|\")\n",
    "print(f\"| Jitter (fs)         | {jitter_this_work_fs:<17.2f} | {jitter_zhao_fs:<19.2f} |\")\n",
    "print(f\"| Power (mW)          | {power_this_work_mW:<17.2f} | {power_zhao_mW:<19.2f} |\")\n",
    "print(f\"| Area (mm^2)         | {area_this_work_mm2:<17.3f} | {area_zhao_mm2:<19.4f} |\")\n",
    "print(f\"| FoM (fs^2*mW)       | {fom_this_work:<17.0f} | {fom_zhao:<19.0f} |\")\n",
    "print(f\"| FoM_A (fs^2*mW*mm^2)| {fom_a_this_work:<17.0f} | {fom_a_zhao:<19.0f} |\")\n",
    "print(\"=\"*60)\n",
    "print(f\"Predicted Improvement (FoM): {improvement_fom:.2f}x\")\n",
    "print(f\"Predicted Improvement (FoM_A): {improvement_fom_a:.2f}x\")\n",
    "print(\"=\"*60)\n",
    "print(\"\\nConclusion: The recalculated values match the claims in the paper.\")"
   ]
  }
 ],
 "metadata": {
  "kernelspec": {
   "display_name": "Python [conda env:base] *",
   "language": "python",
   "name": "conda-base-py"
  },
  "language_info": {
   "codemirror_mode": {
    "name": "ipython",
    "version": 3
   },
   "file_extension": ".py",
   "mimetype": "text/x-python",
   "name": "python",
   "nbconvert_exporter": "python",
   "pygments_lexer": "ipython3",
   "version": "3.12.7"
  }
 },
 "nbformat": 4,
 "nbformat_minor": 5
}
